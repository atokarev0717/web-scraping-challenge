{
 "cells": [
  {
   "cell_type": "code",
   "execution_count": 1,
   "id": "lonely-volunteer",
   "metadata": {},
   "outputs": [],
   "source": [
    "# Dependencies\n",
    "import pandas as pd\n",
    "import requests\n",
    "import time\n",
    "from bs4 import BeautifulSoup as bs\n",
    "from splinter import Browser\n",
    "from selenium import webdriver\n",
    "from webdriver_manager.chrome import ChromeDriverManager"
   ]
  },
  {
   "cell_type": "code",
   "execution_count": 2,
   "id": "clinical-sugar",
   "metadata": {},
   "outputs": [
    {
     "name": "stderr",
     "output_type": "stream",
     "text": [
      "[WDM] - ====== WebDriver manager ======\n",
      "[WDM] - Current google-chrome version is 88.0.4324\n",
      "[WDM] - Get LATEST driver version for 88.0.4324\n"
     ]
    },
    {
     "name": "stdout",
     "output_type": "stream",
     "text": [
      "\n",
      "\n"
     ]
    },
    {
     "name": "stderr",
     "output_type": "stream",
     "text": [
      "[WDM] - Driver [/Users/atokarev/.wdm/drivers/chromedriver/mac64/88.0.4324.96/chromedriver] found in cache\n"
     ]
    }
   ],
   "source": [
    "executable_path = {'executable_path': ChromeDriverManager().install()}\n",
    "browser = Browser('chrome', **executable_path, headless=False)"
   ]
  },
  {
   "cell_type": "code",
   "execution_count": 3,
   "id": "analyzed-teach",
   "metadata": {},
   "outputs": [],
   "source": [
    "# Scrape the [NASA Mars News Site and collect the latest News Title and Paragraph Text. \n",
    "# Assign the text to variables that you can reference later."
   ]
  },
  {
   "cell_type": "code",
   "execution_count": 4,
   "id": "statewide-material",
   "metadata": {},
   "outputs": [],
   "source": [
    "\n",
    "url = 'https://mars.nasa.gov/news/'\n",
    "\n",
    "browser.visit(url)\n",
    "html = browser.html\n",
    "\n",
    "# Parse HTML with Beautiful Soup\n",
    "soup = bs(html, \"html.parser\")"
   ]
  },
  {
   "cell_type": "code",
   "execution_count": 5,
   "id": "rapid-sheriff",
   "metadata": {},
   "outputs": [
    {
     "data": {
      "text/plain": [
       "[\"Sensors Prepare to Collect Data as Perseverance Enters Mars' Atmosphere\",\n",
       " 'InSight Is Meeting the Challenge of Winter on Dusty Mars',\n",
       " 'NASA Invites Public to Share Thrill of Mars Perseverance Rover Landing',\n",
       " 'Tricky Terrain: Helping to Assure a Safe Rover Landing',\n",
       " 'Where Should Future Astronauts Land on Mars? Follow the Water']"
      ]
     },
     "execution_count": 5,
     "metadata": {},
     "output_type": "execute_result"
    }
   ],
   "source": [
    "# getting list of 5 most recent tiles\n",
    "titles = []\n",
    "for i in range (1,6):\n",
    "    titles.append(soup.find_all('div', class_=\"content_title\")[i].text)\n",
    "titles\n"
   ]
  },
  {
   "cell_type": "code",
   "execution_count": 6,
   "id": "former-gilbert",
   "metadata": {},
   "outputs": [
    {
     "data": {
      "text/plain": [
       "['Technology will collect critical data about the harsh entry environment during Perseverance’s entry next Thursday.',\n",
       " 'As dust collects on the solar panels and winter comes to Elysium Planitia, the team is following a plan to reduce science operations in order to keep the lander safe.',\n",
       " 'Mark your calendars for live landing commentary, news briefings, livestreamed Q&As, virtual watch parties, student activities, and more.',\n",
       " 'How two new technologies will help Perseverance, NASA’s most sophisticated rover yet, touch down onto the surface of Mars this month.',\n",
       " 'A new NASA paper provides the most detailed map to date of near-surface water ice on the Red Planet.']"
      ]
     },
     "execution_count": 6,
     "metadata": {},
     "output_type": "execute_result"
    }
   ],
   "source": [
    "# brief paragraph dscription \n",
    "paragraphs = []\n",
    "for i in range (0,5):\n",
    "    paragraphs.append(soup.find_all('div', class_=\"article_teaser_body\")[i].text)\n",
    "paragraphs"
   ]
  },
  {
   "cell_type": "code",
   "execution_count": 14,
   "id": "greek-sleeping",
   "metadata": {},
   "outputs": [],
   "source": [
    "# visiting the url with images \n",
    "url1 = 'https://www.jpl.nasa.gov/spaceimages/?search=&category=Mars'\n",
    "browser.visit(url1)\n",
    "html = browser.html\n",
    "soup = bs(html, 'html.parser')"
   ]
  },
  {
   "cell_type": "code",
   "execution_count": 15,
   "id": "compressed-suspect",
   "metadata": {},
   "outputs": [],
   "source": [
    "browser.click_link_by_partial_text('McMurdo Crater')\n",
    "time.sleep(3)\n",
    "# html = browser.html\n",
    "# image_soup = bs(html, 'html.parser')"
   ]
  },
  {
   "cell_type": "code",
   "execution_count": 16,
   "id": "surprised-branch",
   "metadata": {},
   "outputs": [],
   "source": [
    "browser.click_link_by_partial_text('Download')\n",
    "time.sleep(3)\n",
    "html1 = browser.html\n",
    "image_soup = bs(html1, 'html.parser')"
   ]
  },
  {
   "cell_type": "code",
   "execution_count": 22,
   "id": "trained-continent",
   "metadata": {},
   "outputs": [
    {
     "data": {
      "text/plain": [
       "'https://d2pn8kiwq2w21t.cloudfront.net/original_images/jpegPIA24405.jpg'"
      ]
     },
     "execution_count": 22,
     "metadata": {},
     "output_type": "execute_result"
    }
   ],
   "source": [
    "featured_image_url=image_soup.find_all('img')[0]['src']\n",
    "featured_image_url"
   ]
  },
  {
   "cell_type": "code",
   "execution_count": null,
   "id": "recovered-tamil",
   "metadata": {},
   "outputs": [],
   "source": []
  }
 ],
 "metadata": {
  "kernelspec": {
   "display_name": "Python [conda env:MongoEnv] *",
   "language": "python",
   "name": "conda-env-MongoEnv-py"
  },
  "language_info": {
   "codemirror_mode": {
    "name": "ipython",
    "version": 3
   },
   "file_extension": ".py",
   "mimetype": "text/x-python",
   "name": "python",
   "nbconvert_exporter": "python",
   "pygments_lexer": "ipython3",
   "version": "3.8.5"
  }
 },
 "nbformat": 4,
 "nbformat_minor": 5
}
